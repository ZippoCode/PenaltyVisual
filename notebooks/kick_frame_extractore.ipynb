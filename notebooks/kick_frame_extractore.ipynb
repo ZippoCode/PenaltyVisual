{
 "cells": [
  {
   "cell_type": "code",
   "execution_count": null,
   "id": "initial_id",
   "metadata": {
    "ExecuteTime": {
     "end_time": "2025-10-16T05:41:41.593037Z",
     "start_time": "2025-10-16T05:41:11.213489Z"
    }
   },
   "outputs": [],
   "source": [
    "import cv2\n",
    "import matplotlib.pyplot as plt\n",
    "\n",
    "from penalty_vision.detection.object_detector import ObjectDetector\n",
    "from penalty_vision.tracking.player_tracker import PlayerTracker\n",
    "from penalty_vision.tracking.ball_tracker import BallTracker\n",
    "from penalty_vision.detection.kick_detector import KickDetector\n",
    "from penalty_vision.processing import VideoProcessor\n",
    "\n",
    "video_path = \"<Path>\"\n",
    "config_path = \"<Path>\"\n",
    "\n",
    "with VideoProcessor(video_path) as video_processor:\n",
    "    frames = video_processor.extract_all_frames_as_array()\n",
    "\n",
    "object_detector = ObjectDetector(config_path)\n",
    "player_tracker = PlayerTracker(object_detector)\n",
    "player_detections = player_tracker.track_frames(frames)\n",
    "\n",
    "ball_tracker = BallTracker(object_detector)\n",
    "ball_detections = ball_tracker.track_frames(frames)\n",
    "\n",
    "kick_detector = KickDetector(frames, player_detections, ball_detections)\n",
    "kick_frame = kick_detector.detect_kick_frame()\n",
    "print(f\"Kick frame: {kick_frame}\")\n",
    "\n",
    "frame = frames[kick_frame]\n",
    "\n",
    "frame_rgb = cv2.cvtColor(frame, cv2.COLOR_BGR2RGB)\n",
    "plt.figure(figsize=(10, 6))\n",
    "plt.imshow(frame_rgb)\n",
    "plt.axis('off')\n",
    "plt.show()"
   ]
  },
  {
   "cell_type": "code",
   "execution_count": null,
   "id": "3de9e2ecbd116c4f",
   "metadata": {},
   "outputs": [],
   "source": []
  }
 ],
 "metadata": {
  "kernelspec": {
   "display_name": "Python 3 (ipykernel)",
   "language": "python",
   "name": "python3"
  },
  "language_info": {
   "codemirror_mode": {
    "name": "ipython",
    "version": 3
   },
   "file_extension": ".py",
   "mimetype": "text/x-python",
   "name": "python",
   "nbconvert_exporter": "python",
   "pygments_lexer": "ipython3",
   "version": "3.9.6"
  }
 },
 "nbformat": 4,
 "nbformat_minor": 5
}
