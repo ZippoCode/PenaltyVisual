{
 "cells": [
  {
   "cell_type": "code",
   "execution_count": null,
   "id": "5adccb747ac89b23",
   "metadata": {},
   "outputs": [],
   "source": [
    "import cv2\n",
    "import matplotlib.pyplot as plt\n",
    "\n",
    "from penalty_vision.detection.object_detector import ObjectDetector\n",
    "from penalty_vision.detection.pose_detector import PoseDetector\n",
    "from penalty_vision.utils import Config\n",
    "from penalty_vision.utils.frame_utils import resize_frame\n",
    "from penalty_vision.utils.ioutils import  choice_random_image\n",
    "from penalty_vision.utils.drawing import draw_kicker\n",
    "\n",
    "config_path = r\"<Path>\"\n",
    "config = Config.from_yaml(config_path)\n",
    "\n",
    "frame_path = choice_random_image(config.paths.frame_dir)\n",
    "img = cv2.imread(frame_path)\n",
    "img = resize_frame(frame=img, target_size=(1420, 780))\n",
    "\n",
    "player_detector = ObjectDetector(config_path=config_path)\n",
    "player_detections = player_detector.detect_kicker(frame=img)\n",
    "frame = draw_kicker(img, detections=player_detections)\n",
    "\n",
    "pose_detection = PoseDetector()\n",
    "landmarks = pose_detection.extract_pose_from_bbox(frame=img, bbox=player_detections[0]['bbox'])\n",
    "frame = pose_detection.draw_pose(frame, landmarks)\n",
    "pose_detection.release()\n",
    "\n",
    "frame_rgb = cv2.cvtColor(frame, cv2.COLOR_BGR2RGB)\n",
    "plt.figure(figsize=(10, 6))\n",
    "plt.imshow(frame_rgb)\n",
    "plt.axis('off')\n",
    "plt.show()"
   ]
  },
  {
   "cell_type": "code",
   "execution_count": null,
   "id": "73c16e0ccede2b6b",
   "metadata": {},
   "outputs": [],
   "source": [
    "from penalty_vision.tracking.player_tracker import PlayerTracker\n",
    "from penalty_vision.processing.video_processor import VideoProcessor\n",
    "from penalty_vision.utils import Config\n",
    "from penalty_vision.utils.ioutils import choice_random_video\n",
    "from penalty_vision.detection.object_detector import ObjectDetector\n",
    "\n",
    "\n",
    "config_path = r\"<Path>\"\n",
    "config = Config.from_yaml(config_path)\n",
    "video_path = choice_random_video(video_dir=config.paths.video_dir)\n",
    "frames = VideoProcessor(video_path).extract_all_frames_as_array()\n",
    "\n",
    "player_detector = ObjectDetector(config_path=config_path)\n",
    "player_tracker = PlayerTracker(player_detector)\n",
    "detections = player_tracker.track_frames(frames)\n",
    "print(f\"Detected: {len(detections)}\")"
   ]
  },
  {
   "cell_type": "code",
   "execution_count": null,
   "id": "eb3d608beb4b2c38",
   "metadata": {},
   "outputs": [],
   "source": []
  }
 ],
 "metadata": {
  "kernelspec": {
   "display_name": ".venv (3.12.4)",
   "language": "python",
   "name": "python3"
  },
  "language_info": {
   "codemirror_mode": {
    "name": "ipython",
    "version": 3
   },
   "file_extension": ".py",
   "mimetype": "text/x-python",
   "name": "python",
   "nbconvert_exporter": "python",
   "pygments_lexer": "ipython3",
   "version": "3.12.4"
  }
 },
 "nbformat": 4,
 "nbformat_minor": 5
}
