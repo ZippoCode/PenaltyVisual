{
 "cells": [
  {
   "metadata": {},
   "cell_type": "code",
   "outputs": [],
   "execution_count": null,
   "source": [
    "import cv2\n",
    "import matplotlib.pyplot as plt\n",
    "\n",
    "from penalty_vision.detection import PlayerDetector, PoseDetection\n",
    "from penalty_vision.utils import Config\n",
    "from penalty_vision.utils.frame_utils import resize_frame\n",
    "from penalty_vision.utils.ioutils import  choice_random_image\n",
    "from penalty_vision.utils.drawing import draw_kicker\n",
    "config_path = \"<Path>\"\n",
    "config = Config(config_path)\n",
    "\n",
    "frame_path = choice_random_image(config.frame_dir)\n",
    "img = cv2.imread(frame_path)\n",
    "img = resize_frame(frame=img, target_size=(1420, 780))\n",
    "\n",
    "player_detector = PlayerDetector(model_name=config.checkpoint_path)\n",
    "player_detections = player_detector.detect_kicker(frame=img)\n",
    "frame = draw_kicker(img, detections=player_detections)\n",
    "\n",
    "pose_detection = PoseDetection()\n",
    "landmarks = pose_detection.extract_pose_from_bbox(frame=img, bbox=player_detections[0]['bbox'])\n",
    "frame = pose_detection.draw_pose(frame, landmarks)\n",
    "pose_detection.release()\n",
    "\n",
    "frame_rgb = cv2.cvtColor(frame, cv2.COLOR_BGR2RGB)\n",
    "plt.figure(figsize=(10, 6))\n",
    "plt.imshow(frame_rgb)\n",
    "plt.axis('off')\n",
    "plt.show()"
   ],
   "id": "c3ee9bef1a42f60f"
  },
  {
   "metadata": {},
   "cell_type": "code",
   "outputs": [],
   "execution_count": null,
   "source": [
    "from penalty_vision.modules.player_tracking import PlayerTracker\n",
    "from penalty_vision.processor.video_processor import VideoProcessor\n",
    "from penalty_vision.utils import Config\n",
    "from penalty_vision.utils.ioutils import choice_random_video\n",
    "from penalty_vision.detection import PlayerDetector\n",
    "\n",
    "\n",
    "config_path = r\"<Path>\"\n",
    "config = Config(config_path)\n",
    "video_path = choice_random_video(video_dir=config.video_dir)\n",
    "frames = VideoProcessor(video_path).extract_all_frames_as_array()\n",
    "\n",
    "player_detector = PlayerDetector(model_name=config.checkpoint_path, tracker=config.tracker_config)\n",
    "player_tracker = PlayerTracker(player_detector)\n",
    "detections = player_tracker.track_frames(frames)\n",
    "print(f\"Detected: {len(detections)}\")"
   ],
   "id": "362990a6b4531e7d"
  }
 ],
 "metadata": {
  "kernelspec": {
   "display_name": "Python 3 (ipykernel)",
   "language": "python",
   "name": "python3"
  },
  "language_info": {
   "codemirror_mode": {
    "name": "ipython",
    "version": 3
   },
   "file_extension": ".py",
   "mimetype": "text/x-python",
   "name": "python",
   "nbconvert_exporter": "python",
   "pygments_lexer": "ipython3",
   "version": "3.10.9"
  }
 },
 "nbformat": 4,
 "nbformat_minor": 5
}
